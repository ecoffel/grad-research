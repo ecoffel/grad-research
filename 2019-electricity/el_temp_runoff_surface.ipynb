{
 "cells": [
  {
   "cell_type": "code",
   "execution_count": 8,
   "metadata": {},
   "outputs": [
    {
     "name": "stdout",
     "output_type": "stream",
     "text": [
      "The autoreload extension is already loaded. To reload it, use:\n",
      "  %reload_ext autoreload\n"
     ]
    }
   ],
   "source": [
    "# -*- coding: utf-8 -*-\n",
    "\"\"\"\n",
    "Created on Tue Jun  4 15:40:40 2019\n",
    "\n",
    "@author: Ethan\n",
    "\"\"\"\n",
    "exec(open(\"../util/setupConsole.py\").read())\n",
    "\n",
    "import numpy as np\n",
    "import pandas as pd\n",
    "import matplotlib.pyplot as plt\n",
    "import seaborn as sns\n",
    "from sklearn import linear_model\n",
    "import statsmodels.api as sm\n",
    "import el_build_temp_pp_model\n",
    "import gzip, pickle\n",
    "import sys\n",
    "\n",
    "import warnings\n",
    "warnings.filterwarnings('ignore')\n",
    "\n",
    "dataDirDiscovery = '/dartfs-hpc/rc/lab/C/CMIG/ecoffel/data/projects/electricity'\n",
    "\n",
    "plotFigs = False\n",
    "\n",
    "# only show values on the surface that have historically occurred\n",
    "onlyShowObs = False\n",
    "\n",
    "tempVar = 'txSummer'\n",
    "qsVar = 'qsGrdcAnomSummer'\n",
    "\n",
    "pcVal = -2\n",
    "fuelVal = -2"
   ]
  },
  {
   "cell_type": "code",
   "execution_count": 9,
   "metadata": {},
   "outputs": [],
   "source": [
    "# load historical weather data for plants to compute mean temps \n",
    "# to display on bootstrap temp curve\n",
    "fileName = '%s/script-data/entsoe-nuke-pp-tx-1981-2018.csv'%dataDirDiscovery\n",
    "plantTxData = np.genfromtxt(fileName, delimiter=',', skip_header=0)\n",
    "plantYearData = plantTxData[0,:].copy()\n",
    "plantMonthData = plantTxData[1,:].copy()\n",
    "plantDayData = plantTxData[2,:].copy()\n",
    "plantTxData = plantTxData[3:,:].copy()\n",
    "\n",
    "fileName = '%s/script-data/entsoe-nuke-pp-runoff-anom-gldas-1981-2018.csv'%dataDirDiscovery\n",
    "plantQsData = np.genfromtxt(fileName, delimiter=',', skip_header=0)\n",
    "plantQsData = plantQsData[3:,:]\n",
    "\n",
    "summerInd = np.where((plantMonthData == 7) | (plantMonthData == 8))[0]\n",
    "plantMeanTemps = np.nanmean(plantTxData[:,summerInd], axis=1)\n",
    "plantMeanRunoff = np.nanmean(plantQsData[:,summerInd], axis=1)\n",
    "\n",
    "with gzip.open('%s/script-data/ppFutureTxQsData.dat'%dataDirDiscovery, 'rb') as f:\n",
    "    ppFutureData = pickle.load(f)\n",
    "#     txHist = np.nanmean(np.nanmean(ppFutureData['txMonthlyMax'][:,[6,7]]))\n",
    "#     qsHist = np.nanmean(np.nanmean(ppFutureData['qsAnomMonthlyMean'][:,[6,7]]))\n",
    "    tx2 = np.nanmean(np.nanmean(np.nanmean(ppFutureData['txMonthlyMaxFutGMT'][1,:,:,[6,7]])))\n",
    "    tx4 = np.nanmean(np.nanmean(np.nanmean(ppFutureData['txMonthlyMaxFutGMT'][3,:,:,[6,7]])))\n",
    "    qs2 = np.nanmean(np.nanmean(np.nanmean(ppFutureData['qsMonthlyMeanFutGMT'][1,:,:,[6,7]])))\n",
    "    qs4 = np.nanmean(np.nanmean(np.nanmean(ppFutureData['qsMonthlyMeanFutGMT'][3,:,:,[6,7]])))"
   ]
  },
  {
   "cell_type": "code",
   "execution_count": 10,
   "metadata": {},
   "outputs": [
    {
     "name": "stdout",
     "output_type": "stream",
     "text": [
      "building models\n",
      "0% complete\n"
     ]
    }
   ],
   "source": [
    "if 'percentile' in qsVar.lower():\n",
    "    qsrange = np.linspace(0, 1, 25)\n",
    "else:\n",
    "    qsrange = np.linspace(-4, 4.1, 25)\n",
    "txrange = np.linspace(27, 51, 25)\n",
    "\n",
    "histPDF = np.zeros([len(qsrange), len(txrange)])\n",
    "histStipple = np.zeros([len(qsrange), len(txrange)])\n",
    "\n",
    "for q, qs in enumerate(qsrange):\n",
    "    for t, tx in enumerate(txrange):\n",
    "        ind = np.where((plantTxData >= tx-.5) & (plantTxData <= tx+.5) & \\\n",
    "                       (plantQsData >= qs-.25) & (plantQsData <= qs+.25))[0]\n",
    "        if len(ind) > 0:\n",
    "            histPDF[q,t] = 1\n",
    "        else:\n",
    "            histPDF[q,t] = 0\n",
    "        \n",
    "        if len(ind) > 100:\n",
    "            histStipple[q,t] = 1\n",
    "\n",
    "print('building models')\n",
    "models, plantIds, plantCooling, plantFuel, plantAge, plantUSorEU, plantYears, plantTxData, plantQsData = el_build_temp_pp_model.buildNonlinearTempQsPPModel(tempVar, qsVar, 1)\n",
    "\n",
    "ind = np.where(plantIds > 0)[0]\n",
    "plantIds = plantIds[ind]\n",
    "plantYears = plantYears[ind]\n",
    "if pcVal == -2:\n",
    "    plantCooling = plantCooling[ind]\n",
    "else:\n",
    "    plantCooling = [pcVal]*len(ind)\n",
    "plantFuel = plantFuel[ind]\n",
    "plantAge = plantAge[ind]"
   ]
  },
  {
   "cell_type": "code",
   "execution_count": 11,
   "metadata": {},
   "outputs": [
    {
     "name": "stdout",
     "output_type": "stream",
     "text": [
      "calculating surface\n",
      "processing model 1 of 1\n"
     ]
    }
   ],
   "source": [
    "# plantIdsTmp = np.unique(plantIds)\n",
    "# plantIds = np.array(list(np.unique(plantIds))*len(np.unique(plantYears)))\n",
    "# tmp = []\n",
    "# for p in np.unique(plantYears):\n",
    "#     tmp.extend([p]*len(plantIdsTmp))\n",
    "# plantYears = np.array(tmp)\n",
    "\n",
    "yds = np.zeros([len(models), len(qsrange), len(txrange)])\n",
    "yds[yds == 0] = np.nan\n",
    "\n",
    "print('calculating surface')\n",
    "for m in range(len(models)):    \n",
    "    print('processing model %d of %d'%(m+1,len(models)))\n",
    "    for q in range(len(qsrange)):\n",
    "        for t in range(len(txrange)):\n",
    "            \n",
    "            if histPDF[q,t] == 1 or not onlyShowObs:\n",
    "                dfpred = pd.DataFrame({'T1':[txrange[t]]*len(plantIds), 'T2':[txrange[t]**2]*len(plantIds), \\\n",
    "                         'QS1':[qsrange[q]]*len(plantIds), 'QS2':[qsrange[q]**2]*len(plantIds), \\\n",
    "                         'QST':[txrange[t]*qsrange[q]]*len(plantIds), 'QS2T2':[(txrange[t]**2)*(qsrange[q]**2)]*len(plantIds), \\\n",
    "                         'PlantIds':plantIds, 'PlantYears':plantYears, 'PlantCooling':plantCooling, 'PlantFuel':plantFuel, 'PlantAge':plantAge})\n",
    "\n",
    "                yds[m,q,t] = np.nanmean(models[m].predict(dfpred))\n",
    "            else:\n",
    "                yds[m,q,t] = np.nan\n",
    "        \n",
    "yds = np.array(yds)\n",
    "yds = np.squeeze(np.nanmedian(yds, axis=0))\n",
    "\n",
    "minVal = 80\n",
    "\n",
    "yds[yds<minVal] = minVal"
   ]
  },
  {
   "cell_type": "code",
   "execution_count": 12,
   "metadata": {},
   "outputs": [
    {
     "data": {
      "image/png": "[encoded data removed]",
      "text/plain": [
       "<Figure size 432x288 with 2 Axes>"
      ]
     },
     "metadata": {
      "needs_background": "light"
     },
     "output_type": "display_data"
    }
   ],
   "source": [
    "snsColors = sns.color_palette([\"#3498db\", \"#e74c3c\"])\n",
    "\n",
    "    \n",
    "plt.contourf(txrange, qsrange, yds, levels=np.arange(minVal,100,.5), cmap = 'Reds_r')\n",
    "cb = plt.colorbar()\n",
    "cb.set_ticks(range(minVal,100,3))\n",
    "plt.xlim([27,50])\n",
    "if 'percentile' in qsVar.lower():\n",
    "    plt.ylim([0,1])\n",
    "else:\n",
    "    plt.ylim([-4,4])\n",
    "plt.plot([27, 50], [np.nanmean(plantMeanRunoff), np.nanmean(plantMeanRunoff)], '-k', lw=2)\n",
    "# plt.plot([txHist, txHist], [-4, 4], '-k', lw=2)\n",
    "\n",
    "for q in range(len(qsrange)):\n",
    "    for t in range(len(txrange)):\n",
    "        if histStipple[q, t] == 1:\n",
    "            plt.plot(txrange[t], qsrange[q], 'ok', markersize=1)\n",
    "\n",
    "#plt.plot(txHist, qsHist, '+k', markersize=20, mew=4, lw=2)\n",
    "plt.plot(tx2, qs2, '+k', markersize=20, mew=4, lw=2, color='#ffb835', label='+ 2$\\degree$C')\n",
    "plt.plot(tx4, qs4, '+k', markersize=20, mew=4, lw=2, color=snsColors[1], label='+ 4$\\degree$C')\n",
    "\n",
    "# plt.xticks(txrange)\n",
    "# plt.yticks(qsrange)\n",
    "plt.xlabel('Daily Tx ($\\degree$C)', fontname = 'Helvetica', fontsize=16)\n",
    "plt.ylabel('Runoff anomaly (SD)', fontname = 'Helvetica', fontsize=16)\n",
    "# plt.ylabel('Runoff percentile', fontname = 'Helvetica', fontsize=16)\n",
    "cb.set_label('Mean plant capacity (%)', fontname = 'Helvetica', fontsize=16)\n",
    "\n",
    "for tick in plt.gca().xaxis.get_major_ticks():\n",
    "    tick.label.set_fontname('Helvetica')\n",
    "    tick.label.set_fontsize(14)\n",
    "for tick in plt.gca().yaxis.get_major_ticks():\n",
    "    tick.label.set_fontname('Helvetica')    \n",
    "    tick.label.set_fontsize(14)\n",
    "for tick in cb.ax.yaxis.get_ticklabels():\n",
    "    tick.set_fontname('Helvetica')    \n",
    "    tick.set_fontsize(14)\n",
    "\n",
    "leg = plt.legend(prop = {'size':14, 'family':'Helvetica'}, loc = 'upper right')\n",
    "leg.get_frame().set_linewidth(0.0)\n",
    "\n",
    "x0,x1 = plt.gca().get_xlim()\n",
    "y0,y1 = plt.gca().get_ylim()\n",
    "plt.gca().set_aspect(abs(x1-x0)/abs(y1-y0))\n",
    "\n",
    "if plotFigs:\n",
    "    plt.savefig('hist-pc-%s-%s-regression-contour-pcVal-%d.png'%(tempVar,qsVar,pcVal), format='png', dpi=500, bbox_inches = 'tight', pad_inches = 0)\n"
   ]
  },
  {
   "cell_type": "code",
   "execution_count": null,
   "metadata": {},
   "outputs": [],
   "source": []
  }
 ],
 "metadata": {
  "kernelspec": {
   "display_name": "Python ecoffel",
   "language": "python",
   "name": "ecoffel"
  },
  "language_info": {
   "codemirror_mode": {
    "name": "ipython",
    "version": 3
   },
   "file_extension": ".py",
   "mimetype": "text/x-python",
   "name": "python",
   "nbconvert_exporter": "python",
   "pygments_lexer": "ipython3",
   "version": "3.6.10"
  }
 },
 "nbformat": 4,
 "nbformat_minor": 4
}
