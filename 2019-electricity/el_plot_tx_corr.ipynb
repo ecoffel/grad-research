{
 "cells": [
  {
   "cell_type": "code",
   "execution_count": 1,
   "metadata": {},
   "outputs": [],
   "source": [
    "import json\n",
    "import numpy as np\n",
    "import pandas as pd\n",
    "import scipy.stats as st\n",
    "import el_find_best_runoff_dist\n",
    "\n",
    "import sys, os, pickle\n",
    "\n",
    "#dataDir = '/dartfs-hpc/rc/lab/C/CMIG'\n",
    "#dataDir = 'e:/data/'\n",
    "dataDir = '/dartfs-hpc/rc/lab/C/CMIG/ecoffel/data/projects/electricity'\n"
   ]
  },
  {
   "cell_type": "code",
   "execution_count": 2,
   "metadata": {},
   "outputs": [],
   "source": [
    "fileName = ['%s/script-data/nuke-tx-cpc.csv'%dataDir, '%s/script-data/nuke-tx-era.csv'%dataDir, '%s/script-data/nuke-tx-ncep.csv'%dataDir]\n",
    "\n",
    "txCpc = np.genfromtxt(fileName[0], delimiter=',')\n",
    "txEra = np.genfromtxt(fileName[1], delimiter=',')    \n",
    "txNcep = np.genfromtxt(fileName[2], delimiter=',')    "
   ]
  },
  {
   "cell_type": "code",
   "execution_count": 18,
   "metadata": {},
   "outputs": [],
   "source": [
    "\n",
    "corrVals = np.full([3,3,txCpc.shape[0]], np.nan)\n",
    "\n",
    "for p in range(txCpc.shape[0]):\n",
    "    df = pd.DataFrame(data=np.array([txCpc[p,:], txEra[p,:], txNcep[p,:]]).T, columns=['cpc', 'era', 'ncep'])\n",
    "    corrVals[:,:,p] = df.corr().values"
   ]
  },
  {
   "cell_type": "code",
   "execution_count": 19,
   "metadata": {},
   "outputs": [
    {
     "data": {
      "text/plain": [
       "array([[1.        , 0.96865614, 0.96049302],\n",
       "       [0.96865614, 1.        , 0.96802805],\n",
       "       [0.96049302, 0.96802805, 1.        ]])"
      ]
     },
     "execution_count": 19,
     "metadata": {},
     "output_type": "execute_result"
    }
   ],
   "source": [
    "np.nanmean(corrVals,axis=2)"
   ]
  },
  {
   "cell_type": "code",
   "execution_count": 20,
   "metadata": {},
   "outputs": [
    {
     "data": {
      "text/html": [
       "<div>\n",
       "<style scoped>\n",
       "    .dataframe tbody tr th:only-of-type {\n",
       "        vertical-align: middle;\n",
       "    }\n",
       "\n",
       "    .dataframe tbody tr th {\n",
       "        vertical-align: top;\n",
       "    }\n",
       "\n",
       "    .dataframe thead th {\n",
       "        text-align: right;\n",
       "    }\n",
       "</style>\n",
       "<table border=\"1\" class=\"dataframe\">\n",
       "  <thead>\n",
       "    <tr style=\"text-align: right;\">\n",
       "      <th></th>\n",
       "      <th>cpc</th>\n",
       "      <th>era</th>\n",
       "      <th>ncep</th>\n",
       "    </tr>\n",
       "  </thead>\n",
       "  <tbody>\n",
       "    <tr>\n",
       "      <th>cpc</th>\n",
       "      <td>1.000000</td>\n",
       "      <td>0.973580</td>\n",
       "      <td>0.965396</td>\n",
       "    </tr>\n",
       "    <tr>\n",
       "      <th>era</th>\n",
       "      <td>0.973580</td>\n",
       "      <td>1.000000</td>\n",
       "      <td>0.973707</td>\n",
       "    </tr>\n",
       "    <tr>\n",
       "      <th>ncep</th>\n",
       "      <td>0.965396</td>\n",
       "      <td>0.973707</td>\n",
       "      <td>1.000000</td>\n",
       "    </tr>\n",
       "  </tbody>\n",
       "</table>\n",
       "</div>"
      ],
      "text/plain": [
       "           cpc       era      ncep\n",
       "cpc   1.000000  0.973580  0.965396\n",
       "era   0.973580  1.000000  0.973707\n",
       "ncep  0.965396  0.973707  1.000000"
      ]
     },
     "execution_count": 20,
     "metadata": {},
     "output_type": "execute_result"
    },
    {
     "name": "stdout",
     "output_type": "stream",
     "text": [
      "The history saving thread hit an unexpected error (OperationalError('disk I/O error',)).History will not be written to the database.\n"
     ]
    }
   ],
   "source": [
    "df.corr()"
   ]
  },
  {
   "cell_type": "code",
   "execution_count": null,
   "metadata": {},
   "outputs": [],
   "source": []
  }
 ],
 "metadata": {
  "kernelspec": {
   "display_name": "Python ecoffel",
   "language": "python",
   "name": "ecoffel"
  },
  "language_info": {
   "codemirror_mode": {
    "name": "ipython",
    "version": 3
   },
   "file_extension": ".py",
   "mimetype": "text/x-python",
   "name": "python",
   "nbconvert_exporter": "python",
   "pygments_lexer": "ipython3",
   "version": "3.6.10"
  }
 },
 "nbformat": 4,
 "nbformat_minor": 4
}
