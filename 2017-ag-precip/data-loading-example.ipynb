{
 "cells": [
  {
   "cell_type": "markdown",
   "metadata": {},
   "source": [
    "The merged crop yield and ASOS weather data are stored in dictionaries which have been pickled and saved with gzip (reduces file size by ~90%). They separated by state, and the dictionaries have the following format:\n",
    "\n",
    "state dictionary\n",
    "    key: county name\n",
    "    value: data dictionary\n",
    "        key: 'distance', 'yield', 'temp', or 'precip'\n",
    "        value: 'distance' is # of km from the county center to the closest station\n",
    "               'yield' is a dictionary  where the key is the year and value is the yield\n",
    "               'temp' is a dictionary where key is the year and value is a list of tuples: (year, month, day, hour, temp)\n",
    "               'precip' is a dictionary where key is the year and value is a list of tuples: (year, month, day, hour, precip)"
   ]
  },
  {
   "cell_type": "code",
   "execution_count": 1,
   "metadata": {
    "collapsed": true
   },
   "outputs": [],
   "source": [
    "import pickle\n",
    "import gzip\n",
    "import ag_utils\n",
    "\n",
    "mergedCropWx = {}\n",
    "\n",
    "with gzip.open('merged-crop-wx-ca.pgz', 'rb') as f:\n",
    "    mergedCropWx = pickle.load(f)"
   ]
  },
  {
   "cell_type": "code",
   "execution_count": 6,
   "metadata": {},
   "outputs": [
    {
     "data": {
      "text/plain": [
       "dict_keys(['glenn', 'other (combined) counties', 'sacramento', 'solano', 'yolo', 'kern', 'merced', 'san joaquin', 'sutter', 'stanislaus', 'colusa', 'kings', 'tulare', 'butte', 'fresno', 'tehama', 'yuba', 'madera', 'san bernardino', 'contra costa', 'imperial', 'riverside', 'humboldt', 'placer', 'santa barbara', 'alameda', 'sonoma', 'siskiyou', 'san diego', 'san luis obispo', 'amador', 'shasta', 'san benito', 'monterey', 'santa clara', 'los angeles', 'ventura', 'san mateo', 'calaveras', 'lassen', 'modoc', 'lake', 'mendocino', 'el dorado', 'orange'])"
      ]
     },
     "execution_count": 6,
     "metadata": {},
     "output_type": "execute_result"
    }
   ],
   "source": [
    "# to get the list of counties...\n",
    "mergedCropWx.keys()"
   ]
  },
  {
   "cell_type": "code",
   "execution_count": 9,
   "metadata": {},
   "outputs": [
    {
     "name": "stdout",
     "output_type": "stream",
     "text": [
      "dict_keys(['distance', 'yield', 'temp', 'precip'])\n",
      "{}\n"
     ]
    }
   ],
   "source": [
    "# counties that were matched have data dictionaries \n",
    "print(mergedCropWx['sacramento'].keys())\n",
    "\n",
    "# if no match, an empty dictionary\n",
    "print(mergedCropWx['glenn'])"
   ]
  },
  {
   "cell_type": "code",
   "execution_count": 17,
   "metadata": {},
   "outputs": [
    {
     "data": {
      "text/plain": [
       "<matplotlib.text.Text at 0x1f18cc81ac8>"
      ]
     },
     "execution_count": 17,
     "metadata": {},
     "output_type": "execute_result"
    },
    {
     "data": {
      "image/png": "[encoded data removed]",
      "text/plain": [
       "<matplotlib.figure.Figure at 0x1f18c727e10>"
      ]
     },
     "metadata": {},
     "output_type": "display_data"
    }
   ],
   "source": [
    "import matplotlib.pyplot as plt\n",
    "%matplotlib inline\n",
    "\n",
    "# yield dictionary keys are years and values are annual yields\n",
    "years = list(mergedCropWx['sacramento']['yield'].keys())\n",
    "yields = list(mergedCropWx['sacramento']['yield'].values())\n",
    "\n",
    "plt.plot(years, yields)\n",
    "plt.xlabel('Year')\n",
    "plt.ylabel('Yield')"
   ]
  },
  {
   "cell_type": "code",
   "execution_count": 22,
   "metadata": {},
   "outputs": [
    {
     "data": {
      "text/plain": [
       "13.9"
      ]
     },
     "execution_count": 22,
     "metadata": {},
     "output_type": "execute_result"
    }
   ],
   "source": [
    "import numpy\n",
    "\n",
    "# get all temps and associated year\n",
    "years = numpy.array(mergedCropWx['sacramento']['year']).astype('float')\n",
    "temps = numpy.array(mergedCropWx['sacramento']['temp']).astype('float')\n",
    "\n",
    "# find all indices that have missing data (-999)\n",
    "nanInds = numpy.where(temps == -999)\n",
    "\n",
    "# replace with nan\n",
    "years[nanInds] = numpy.nan\n",
    "temps[nanInds] = numpy.nan\n",
    "\n",
    "annualMeanTemps = []\n",
    "\n",
    "# loop over all years\n",
    "uniqueYears = numpy.unique(years)\n",
    "for y in uniqueYears:\n",
    "    \n",
    "    # find indices of this year\n",
    "    ind = numpy.where(years == y)\n",
    "    \n",
    "    # take mean of all temps in that year\n",
    "    annualMeanTemps.append(numpy.mean(temps[ind]))\n",
    "\n",
    "\n",
    "plt.plot(uniqueYears, annualMeanTemps)\n",
    "plt.xlabel('Year')\n",
    "plt.ylabel('Annual mean temp')"
   ]
  }
 ],
 "metadata": {
  "kernelspec": {
   "display_name": "Python 3",
   "language": "python",
   "name": "python3"
  },
  "language_info": {
   "codemirror_mode": {
    "name": "ipython",
    "version": 3
   },
   "file_extension": ".py",
   "mimetype": "text/x-python",
   "name": "python",
   "nbconvert_exporter": "python",
   "pygments_lexer": "ipython3",
   "version": "3.6.2"
  }
 },
 "nbformat": 4,
 "nbformat_minor": 2
}
