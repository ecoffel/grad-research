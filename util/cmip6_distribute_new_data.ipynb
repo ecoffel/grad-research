{
 "cells": [
  {
   "cell_type": "code",
   "execution_count": 7,
   "metadata": {},
   "outputs": [],
   "source": [
    "import glob\n",
    "import os\n",
    "import shutil"
   ]
  },
  {
   "cell_type": "code",
   "execution_count": 8,
   "metadata": {},
   "outputs": [],
   "source": [
    "cmip6Dir = '/home/edcoffel/drive/MAX-Filer/Research/Climate-02/Data-02-edcoffel-F20/CMIP6'\n"
   ]
  },
  {
   "cell_type": "code",
   "execution_count": 9,
   "metadata": {},
   "outputs": [],
   "source": [
    "models = [x.split('/')[-2] for x in glob.glob(\"%s/*/\"%cmip6Dir)]\n",
    "# models.remove('download')\n",
    "models.remove('util')"
   ]
  },
  {
   "cell_type": "code",
   "execution_count": 10,
   "metadata": {},
   "outputs": [],
   "source": [
    "downloadDir = '%s/download'%cmip6Dir\n"
   ]
  },
  {
   "cell_type": "code",
   "execution_count": 11,
   "metadata": {},
   "outputs": [],
   "source": [
    "new_files = glob.glob('%s/tw_*.nc'%downloadDir)"
   ]
  },
  {
   "cell_type": "code",
   "execution_count": 13,
   "metadata": {},
   "outputs": [
    {
     "ename": "IndexError",
     "evalue": "list index out of range",
     "output_type": "error",
     "traceback": [
      "\u001b[0;31m---------------------------------------------------------------------------\u001b[0m",
      "\u001b[0;31mIndexError\u001b[0m                                Traceback (most recent call last)",
      "\u001b[0;32m<ipython-input-13-e81a495beced>\u001b[0m in \u001b[0;36m<module>\u001b[0;34m\u001b[0m\n\u001b[1;32m     11\u001b[0m     \u001b[0mmodel\u001b[0m \u001b[0;34m=\u001b[0m \u001b[0mcur_file_name\u001b[0m\u001b[0;34m.\u001b[0m\u001b[0msplit\u001b[0m\u001b[0;34m(\u001b[0m\u001b[0;34m'_'\u001b[0m\u001b[0;34m)\u001b[0m\u001b[0;34m[\u001b[0m\u001b[0;36m2\u001b[0m\u001b[0;34m]\u001b[0m\u001b[0;34m.\u001b[0m\u001b[0mlower\u001b[0m\u001b[0;34m(\u001b[0m\u001b[0;34m)\u001b[0m\u001b[0;34m\u001b[0m\u001b[0;34m\u001b[0m\u001b[0m\n\u001b[1;32m     12\u001b[0m     \u001b[0mscenario\u001b[0m \u001b[0;34m=\u001b[0m \u001b[0mcur_file_name\u001b[0m\u001b[0;34m.\u001b[0m\u001b[0msplit\u001b[0m\u001b[0;34m(\u001b[0m\u001b[0;34m'_'\u001b[0m\u001b[0;34m)\u001b[0m\u001b[0;34m[\u001b[0m\u001b[0;36m3\u001b[0m\u001b[0;34m]\u001b[0m\u001b[0;34m\u001b[0m\u001b[0;34m\u001b[0m\u001b[0m\n\u001b[0;32m---> 13\u001b[0;31m     \u001b[0mrun\u001b[0m \u001b[0;34m=\u001b[0m \u001b[0mcur_file_name\u001b[0m\u001b[0;34m.\u001b[0m\u001b[0msplit\u001b[0m\u001b[0;34m(\u001b[0m\u001b[0;34m'_'\u001b[0m\u001b[0;34m)\u001b[0m\u001b[0;34m[\u001b[0m\u001b[0;36m4\u001b[0m\u001b[0;34m]\u001b[0m\u001b[0;34m\u001b[0m\u001b[0;34m\u001b[0m\u001b[0m\n\u001b[0m\u001b[1;32m     14\u001b[0m \u001b[0;34m\u001b[0m\u001b[0m\n\u001b[1;32m     15\u001b[0m     \u001b[0mdest_model\u001b[0m \u001b[0;34m=\u001b[0m \u001b[0;34m'%s/%s'\u001b[0m\u001b[0;34m%\u001b[0m\u001b[0;34m(\u001b[0m\u001b[0mcmip6Dir\u001b[0m\u001b[0;34m,\u001b[0m \u001b[0mmodel\u001b[0m\u001b[0;34m)\u001b[0m\u001b[0;34m\u001b[0m\u001b[0;34m\u001b[0m\u001b[0m\n",
      "\u001b[0;31mIndexError\u001b[0m: list index out of range"
     ]
    }
   ],
   "source": [
    "for cur_file in new_files:\n",
    "    if os.stat(cur_file).st_size == 0:\n",
    "        print('skipping %s: file size = 0'%cur_file)\n",
    "        continue\n",
    "    \n",
    "    cur_file_name = cur_file.split('/')[-1]\n",
    "\n",
    "    cur_file_name = cur_file_name.replace('MPI-ESM-1-2', 'MPI-ESM1-2')\n",
    "    \n",
    "    var = cur_file_name.split('_')[0]\n",
    "    model = cur_file_name.split('_')[2].lower()\n",
    "    scenario = cur_file_name.split('_')[3]\n",
    "    run = cur_file_name.split('_')[4]\n",
    "    \n",
    "    dest_model = '%s/%s'%(cmip6Dir, model)\n",
    "    dest_run = '%s/%s/%s'%(cmip6Dir, model, run)\n",
    "    dest_scenario = '%s/%s/%s/%s'%(cmip6Dir, model, run, scenario)\n",
    "    dest_var = '%s/%s/%s/%s/%s'%(cmip6Dir, model, run, scenario, var)\n",
    "    \n",
    "    if not os.path.exists(dest_model):\n",
    "        print('mkdir %s'%dest_model)\n",
    "        os.makedirs(dest_model)\n",
    "        \n",
    "    if os.path.exists(dest_model) and not os.path.exists(dest_run):\n",
    "        print('mkdir %s'%dest_run)\n",
    "        os.makedirs(dest_run)\n",
    "    \n",
    "    if os.path.exists(dest_model) and os.path.exists(dest_run) and not os.path.exists(dest_scenario):\n",
    "        print('mkdir %s'%dest_scenario)\n",
    "        os.makedirs(dest_scenario)\n",
    "    \n",
    "    if os.path.exists(dest_model) and os.path.exists(dest_run) and os.path.exists(dest_scenario) and not os.path.exists(dest_var):\n",
    "        print('mkdir %s'%dest_var)\n",
    "        os.makedirs(dest_var)\n",
    "    \n",
    "    if os.path.exists(dest_var):\n",
    "        print('mv %s -> %s/%s'%(cur_file, dest_var, cur_file_name))\n",
    "        shutil.move(\"%s\"%cur_file, \"%s/%s\"%(dest_var, cur_file_name))"
   ]
  },
  {
   "cell_type": "code",
   "execution_count": null,
   "metadata": {},
   "outputs": [],
   "source": []
  }
 ],
 "metadata": {
  "kernelspec": {
   "display_name": "Python 3",
   "language": "python",
   "name": "python3"
  },
  "language_info": {
   "codemirror_mode": {
    "name": "ipython",
    "version": 3
   },
   "file_extension": ".py",
   "mimetype": "text/x-python",
   "name": "python",
   "nbconvert_exporter": "python",
   "pygments_lexer": "ipython3",
   "version": "3.6.9"
  }
 },
 "nbformat": 4,
 "nbformat_minor": 4
}
