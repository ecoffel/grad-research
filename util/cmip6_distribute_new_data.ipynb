{
 "cells": [
  {
   "cell_type": "code",
   "execution_count": 1,
   "metadata": {},
   "outputs": [],
   "source": [
    "import glob\n",
    "import os\n",
    "import shutil"
   ]
  },
  {
   "cell_type": "code",
   "execution_count": 2,
   "metadata": {},
   "outputs": [],
   "source": [
    "cmip6Dir = '/home/edcoffel/drive/MAX-Filer/Research/Climate-02/Data-02-edcoffel-F20/CMIP6'"
   ]
  },
  {
   "cell_type": "code",
   "execution_count": 3,
   "metadata": {},
   "outputs": [],
   "source": [
    "models = [x.split('/')[-2] for x in glob.glob(\"%s/*/\"%cmip6Dir)]\n",
    "# models.remove('download')\n",
    "models.remove('util')"
   ]
  },
  {
   "cell_type": "code",
   "execution_count": 4,
   "metadata": {},
   "outputs": [],
   "source": [
    "downloadDir = '%s/download'%cmip6Dir"
   ]
  },
  {
   "cell_type": "code",
   "execution_count": 5,
   "metadata": {},
   "outputs": [],
   "source": [
    "new_files = glob.glob('%s/hus*.nc'%downloadDir)"
   ]
  },
  {
   "cell_type": "code",
   "execution_count": 6,
   "metadata": {},
   "outputs": [
    {
     "name": "stdout",
     "output_type": "stream",
     "text": [
      "mkdir /home/edcoffel/drive/MAX-Filer/Research/Climate-02/Data-02-edcoffel-F20/CMIP6/bcc-esm1/r1i1p1f1/historical/hus\n",
      "mv /home/edcoffel/drive/MAX-Filer/Research/Climate-02/Data-02-edcoffel-F20/CMIP6/download/hus_day_BCC-ESM1_historical_r1i1p1f1_gn_19500101-19691231.nc -> /home/edcoffel/drive/MAX-Filer/Research/Climate-02/Data-02-edcoffel-F20/CMIP6/bcc-esm1/r1i1p1f1/historical/hus/hus_day_BCC-ESM1_historical_r1i1p1f1_gn_19500101-19691231.nc\n",
      "mv /home/edcoffel/drive/MAX-Filer/Research/Climate-02/Data-02-edcoffel-F20/CMIP6/download/hus_day_BCC-ESM1_historical_r1i1p1f1_gn_19700101-19891231.nc -> /home/edcoffel/drive/MAX-Filer/Research/Climate-02/Data-02-edcoffel-F20/CMIP6/bcc-esm1/r1i1p1f1/historical/hus/hus_day_BCC-ESM1_historical_r1i1p1f1_gn_19700101-19891231.nc\n",
      "mv /home/edcoffel/drive/MAX-Filer/Research/Climate-02/Data-02-edcoffel-F20/CMIP6/download/hus_day_BCC-ESM1_historical_r1i1p1f1_gn_19900101-20091231.nc -> /home/edcoffel/drive/MAX-Filer/Research/Climate-02/Data-02-edcoffel-F20/CMIP6/bcc-esm1/r1i1p1f1/historical/hus/hus_day_BCC-ESM1_historical_r1i1p1f1_gn_19900101-20091231.nc\n",
      "mv /home/edcoffel/drive/MAX-Filer/Research/Climate-02/Data-02-edcoffel-F20/CMIP6/download/hus_day_BCC-ESM1_historical_r1i1p1f1_gn_20100101-20141231.nc -> /home/edcoffel/drive/MAX-Filer/Research/Climate-02/Data-02-edcoffel-F20/CMIP6/bcc-esm1/r1i1p1f1/historical/hus/hus_day_BCC-ESM1_historical_r1i1p1f1_gn_20100101-20141231.nc\n"
     ]
    }
   ],
   "source": [
    "for cur_file in new_files:\n",
    "    if os.stat(cur_file).st_size == 0:\n",
    "        print('skipping %s: file size = 0'%cur_file)\n",
    "        continue\n",
    "    \n",
    "    cur_file_name = cur_file.split('/')[-1]\n",
    "\n",
    "    cur_file_name = cur_file_name.replace('MPI-ESM-1-2', 'MPI-ESM1-2')\n",
    "    \n",
    "    var = cur_file_name.split('_')[0]\n",
    "    model = cur_file_name.split('_')[2].lower()\n",
    "    scenario = cur_file_name.split('_')[3]\n",
    "    run = cur_file_name.split('_')[4]\n",
    "    \n",
    "    dest_model = '%s/%s'%(cmip6Dir, model)\n",
    "    dest_run = '%s/%s/%s'%(cmip6Dir, model, run)\n",
    "    dest_scenario = '%s/%s/%s/%s'%(cmip6Dir, model, run, scenario)\n",
    "    dest_var = '%s/%s/%s/%s/%s'%(cmip6Dir, model, run, scenario, var)\n",
    "    \n",
    "    if not os.path.exists(dest_model):\n",
    "        print('mkdir %s'%dest_model)\n",
    "        os.makedirs(dest_model)\n",
    "        \n",
    "    if os.path.exists(dest_model) and not os.path.exists(dest_run):\n",
    "        print('mkdir %s'%dest_run)\n",
    "        os.makedirs(dest_run)\n",
    "    \n",
    "    if os.path.exists(dest_model) and os.path.exists(dest_run) and not os.path.exists(dest_scenario):\n",
    "        print('mkdir %s'%dest_scenario)\n",
    "        os.makedirs(dest_scenario)\n",
    "    \n",
    "    if os.path.exists(dest_model) and os.path.exists(dest_run) and os.path.exists(dest_scenario) and not os.path.exists(dest_var):\n",
    "        print('mkdir %s'%dest_var)\n",
    "        os.makedirs(dest_var)\n",
    "    \n",
    "    if os.path.exists(dest_var):\n",
    "        print('mv %s -> %s/%s'%(cur_file, dest_var, cur_file_name))\n",
    "        shutil.move(\"%s\"%cur_file, \"%s/%s\"%(dest_var, cur_file_name))"
   ]
  },
  {
   "cell_type": "code",
   "execution_count": null,
   "metadata": {},
   "outputs": [],
   "source": []
  }
 ],
 "metadata": {
  "kernelspec": {
   "display_name": "Python 3",
   "language": "python",
   "name": "python3"
  },
  "language_info": {
   "codemirror_mode": {
    "name": "ipython",
    "version": 3
   },
   "file_extension": ".py",
   "mimetype": "text/x-python",
   "name": "python",
   "nbconvert_exporter": "python",
   "pygments_lexer": "ipython3",
   "version": "3.6.9"
  }
 },
 "nbformat": 4,
 "nbformat_minor": 4
}
