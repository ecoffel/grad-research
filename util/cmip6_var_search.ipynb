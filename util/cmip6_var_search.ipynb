{
 "cells": [
  {
   "cell_type": "code",
   "execution_count": 54,
   "metadata": {},
   "outputs": [],
   "source": [
    "import glob\n",
    "import os\n"
   ]
  },
  {
   "cell_type": "code",
   "execution_count": 55,
   "metadata": {},
   "outputs": [],
   "source": [
    "cmip6Dir = dirCmip6 = '/home/edcoffel/drive/MAX-Filer/Research/Climate-02/Data-02-edcoffel-F20/CMIP6'"
   ]
  },
  {
   "cell_type": "code",
   "execution_count": 56,
   "metadata": {},
   "outputs": [],
   "source": [
    "models = [x.split('/')[-2] for x in glob.glob(\"%s/*/\"%cmip6Dir)]\n",
    "models.remove('download')\n",
    "models.remove('util')"
   ]
  },
  {
   "cell_type": "code",
   "execution_count": 57,
   "metadata": {},
   "outputs": [
    {
     "name": "stdout",
     "output_type": "stream",
     "text": [
      "access-cm2 ['r1i1p1f1']\n",
      "access-esm1-5 ['r1i1p1f1']\n",
      "awi-cm-1-1-mr ['r1i1p1f1']\n",
      "bcc-csm2-mr ['r1i1p1f1']\n",
      "bcc-esm1 ['r1i1p1f1']\n",
      "cams-csm1-0 ['r1i1p1f1']\n",
      "canesm5 ['r1i1p1f1']\n",
      "cesm2 ['r1i1p1f1']\n",
      "cesm2-fv2 ['r1i1p1f1']\n",
      "cmcc-cm2-sr5 ['r1i1p1f1']\n",
      "ec-earth3 ['r1i1p1f1']\n",
      "fgoals-g3 ['r1i1p1f1']\n",
      "gfdl-cm4 ['r1i1p1f1']\n",
      "gfdl-esm4 ['r1i1p1f1']\n",
      "giss-e2-1-g ['r1i1p1f1']\n",
      "inm-cm5-0 ['r1i1p1f1']\n",
      "input4mips ['concentrations']\n",
      "ipsl-cm6a-lr ['r1i1p1f1']\n",
      "kace-1-0-g ['r1i1p1f1']\n",
      "kiost-esm ['r1i1p1f1']\n",
      "miroc6 ['r1i1p1f1']\n",
      "mpi-esm1-2-ham ['r1i1p1f1']\n",
      "mpi-esm1-2-hr ['r1i1p1f1']\n",
      "mpi-esm1-2-lr ['r1i1p1f1']\n",
      "mri-esm2-0 ['r1i1p1f1']\n",
      "nesm3 ['r1i1p1f1']\n",
      "noresm2-lm ['r1i1p1f1']\n",
      "noresm2-mm ['r1i1p1f1']\n",
      "sam0-unicon ['r1i1p1f1']\n"
     ]
    }
   ],
   "source": [
    "# find varient for each model\n",
    "\n",
    "for model in models:\n",
    "    varients = [x.split('/')[-2] for x in glob.glob(\"%s/%s/*/\"%(cmip6Dir, model))]\n",
    "    print(model, varients)"
   ]
  },
  {
   "cell_type": "code",
   "execution_count": 59,
   "metadata": {},
   "outputs": [
    {
     "name": "stdout",
     "output_type": "stream",
     "text": [
      "access-cm2 ['historical', 'ssp126', 'ssp245', 'ssp370']\n",
      "access-esm1-5 ['esm-hist', 'historical', 'historical-nat', 'ssp126', 'ssp245', 'ssp370']\n",
      "awi-cm-1-1-mr ['historical', 'ssp126', 'ssp245', 'ssp370']\n",
      "bcc-csm2-mr ['esm-hist', 'historical', 'historical-nat', 'ssp126', 'ssp245', 'ssp370']\n",
      "bcc-esm1 ['historical', 'ssp370']\n",
      "cams-csm1-0 ['historical', 'ssp370']\n",
      "canesm5 ['esm-hist', 'historical', 'historical-nat', 'ssp126', 'ssp245', 'ssp370']\n",
      "cesm2 ['esm-hist', 'historical', 'historical-nat', 'ssp370']\n",
      "cesm2-fv2 ['historical']\n",
      "cmcc-cm2-sr5 ['historical']\n",
      "ec-earth3 ['historical', 'ssp370']\n",
      "fgoals-g3 ['historical', 'historical-nat', 'ssp126', 'ssp245', 'ssp370']\n",
      "gfdl-cm4 ['historical']\n",
      "gfdl-esm4 ['historical']\n",
      "giss-e2-1-g ['historical']\n",
      "inm-cm5-0 ['historical']\n",
      "input4mips []\n",
      "ipsl-cm6a-lr ['historical']\n",
      "kace-1-0-g ['historical']\n",
      "kiost-esm ['historical']\n",
      "miroc6 ['historical', 'historical-nat', 'ssp126', 'ssp245', 'ssp370']\n",
      "mpi-esm1-2-ham ['historical']\n",
      "mpi-esm1-2-hr ['historical', 'ssp126', 'ssp245', 'ssp370']\n",
      "mpi-esm1-2-lr ['esm-hist', 'historical', 'ssp126', 'ssp245', 'ssp370']\n",
      "mri-esm2-0 ['historical', 'historical-nat', 'ssp126', 'ssp245', 'ssp370']\n",
      "nesm3 ['historical', 'ssp126', 'ssp245']\n",
      "noresm2-lm ['historical', 'historical-nat', 'ssp126', 'ssp245', 'ssp370']\n",
      "noresm2-mm ['historical', 'ssp126', 'ssp245', 'ssp370']\n",
      "sam0-unicon ['historical']\n"
     ]
    }
   ],
   "source": [
    "# find experiments for each model/varient\n",
    "\n",
    "varient = 'r1i1p1f1'\n",
    "\n",
    "for model in models:\n",
    "    experiments = [x.split('/')[-2] for x in glob.glob(\"%s/%s/%s/*/\"%(cmip6Dir, model, varient))]\n",
    "    print(model, experiments)"
   ]
  },
  {
   "cell_type": "code",
   "execution_count": 61,
   "metadata": {},
   "outputs": [
    {
     "name": "stdout",
     "output_type": "stream",
     "text": [
      "access-cm2 ssp370 ['tas', 'tasmax', 'ts']\n",
      "access-esm1-5 ssp370 ['tas', 'tasmax', 'ts']\n",
      "awi-cm-1-1-mr ssp370 ['tas', 'tasmax', 'ts']\n",
      "bcc-csm2-mr ssp370 ['huss', 'psl', 'tas', 'tasmax', 'ts']\n",
      "bcc-esm1 ssp370 ['tas', 'tasmax']\n",
      "cams-csm1-0 ssp370 ['ts']\n",
      "canesm5 ssp370 ['huss', 'psl', 'tas', 'tasmax', 'ts']\n",
      "cesm2 ssp370 ['huss', 'psl', 'tas', 'tasmax']\n",
      "cesm2-fv2 ssp370 []\n",
      "cmcc-cm2-sr5 ssp370 []\n",
      "ec-earth3 ssp370 ['tasmax']\n",
      "fgoals-g3 ssp370 ['huss', 'psl', 'tas', 'tasmax', 'ts']\n",
      "gfdl-cm4 ssp370 []\n",
      "gfdl-esm4 ssp370 []\n",
      "giss-e2-1-g ssp370 []\n",
      "inm-cm5-0 ssp370 []\n",
      "input4mips ssp370 []\n",
      "ipsl-cm6a-lr ssp370 []\n",
      "kace-1-0-g ssp370 []\n",
      "kiost-esm ssp370 []\n",
      "miroc6 ssp370 ['tas', 'tasmax', 'ts']\n",
      "mpi-esm1-2-ham ssp370 []\n",
      "mpi-esm1-2-hr ssp370 ['tas', 'tasmax', 'ts']\n",
      "mpi-esm1-2-lr ssp370 ['tas', 'tasmax', 'ts']\n",
      "mri-esm2-0 ssp370 ['huss', 'psl', 'tas', 'tasmax', 'ts']\n",
      "nesm3 ssp370 []\n",
      "noresm2-lm ssp370 ['tas', 'tasmax']\n",
      "noresm2-mm ssp370 ['tas', 'tasmax']\n",
      "sam0-unicon ssp370 []\n"
     ]
    }
   ],
   "source": [
    "# find variables for each model/varient/experiment\n",
    "\n",
    "varient = 'r1i1p1f1'\n",
    "experiment = 'ssp370'\n",
    "\n",
    "for model in models:\n",
    "    variables = [x.split('/')[-2] for x in glob.glob(\"%s/%s/%s/%s/*/\"%(cmip6Dir, model, varient, experiment))]\n",
    "    print(model, experiment, variables)"
   ]
  },
  {
   "cell_type": "code",
   "execution_count": 63,
   "metadata": {},
   "outputs": [
    {
     "name": "stdout",
     "output_type": "stream",
     "text": [
      "access-cm2\n",
      "access-esm1-5\n",
      "awi-cm-1-1-mr\n",
      "bcc-csm2-mr\n",
      "bcc-esm1\n",
      "canesm5\n",
      "cesm2\n",
      "ec-earth3\n",
      "fgoals-g3\n",
      "miroc6\n",
      "mpi-esm1-2-hr\n",
      "mpi-esm1-2-lr\n",
      "mri-esm2-0\n",
      "noresm2-lm\n",
      "noresm2-mm\n"
     ]
    }
   ],
   "source": [
    "# find models with specific varient/experiment/variable\n",
    "\n",
    "varient = 'r1i1p1f1'\n",
    "experiment = 'ssp370'\n",
    "variable = 'tasmax'\n",
    "\n",
    "for model in models:\n",
    "    variables = [x.split('/')[-2] for x in glob.glob(\"%s/%s/%s/%s/*/\"%(cmip6Dir, model, varient, experiment))]\n",
    "    if variable in variables:\n",
    "        print(model)"
   ]
  },
  {
   "cell_type": "code",
   "execution_count": null,
   "metadata": {},
   "outputs": [],
   "source": []
  }
 ],
 "metadata": {
  "kernelspec": {
   "display_name": "ecoffel",
   "language": "python",
   "name": "ecoffel"
  },
  "language_info": {
   "codemirror_mode": {
    "name": "ipython",
    "version": 3
   },
   "file_extension": ".py",
   "mimetype": "text/x-python",
   "name": "python",
   "nbconvert_exporter": "python",
   "pygments_lexer": "ipython3",
   "version": "3.8.5"
  }
 },
 "nbformat": 4,
 "nbformat_minor": 4
}
