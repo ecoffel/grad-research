{
 "cells": [
  {
   "cell_type": "code",
   "execution_count": 1,
   "metadata": {},
   "outputs": [],
   "source": [
    "import glob\n",
    "import os"
   ]
  },
  {
   "cell_type": "code",
   "execution_count": 2,
   "metadata": {},
   "outputs": [],
   "source": [
    "cmip6Dir = dirCmip6 = '/home/edcoffel/drive/MAX-Filer/Research/Climate-02/Data-02-edcoffel-F20/CMIP6'"
   ]
  },
  {
   "cell_type": "code",
   "execution_count": 3,
   "metadata": {},
   "outputs": [],
   "source": [
    "models = [x.split('/')[-2] for x in glob.glob(\"%s/*/\"%cmip6Dir)]\n",
    "models.remove('download')\n",
    "models.remove('util')"
   ]
  },
  {
   "cell_type": "code",
   "execution_count": 29,
   "metadata": {},
   "outputs": [
    {
     "name": "stdout",
     "output_type": "stream",
     "text": [
      "access-cm2 ['r1i1p1f1']\n",
      "access-esm1-5 ['r10i1p1f1', 'r11i1p1f1', 'r12i1p1f1', 'r13i1p1f1', 'r14i1p1f1', 'r15i1p1f1', 'r16i1p1f1', 'r17i1p1f1', 'r18i1p1f1', 'r19i1p1f1', 'r1i1p1f1', 'r20i1p1f1', 'r21i1p1f1', 'r22i1p1f1', 'r23i1p1f1', 'r24i1p1f1', 'r25i1p1f1', 'r26i1p1f1', 'r27i1p1f1', 'r28i1p1f1', 'r29i1p1f1', 'r2i1p1f1', 'r30i1p1f1', 'r31i1p1f1', 'r32i1p1f1', 'r33i1p1f1', 'r34i1p1f1', 'r35i1p1f1', 'r36i1p1f1', 'r37i1p1f1', 'r38i1p1f1', 'r39i1p1f1', 'r3i1p1f1', 'r40i1p1f1', 'r4i1p1f1', 'r5i1p1f1', 'r6i1p1f1', 'r7i1p1f1', 'r8i1p1f1', 'r9i1p1f1']\n",
      "awi-cm-1-1-mr ['r1i1p1f1']\n",
      "awi-esm-1-1-lr ['r1i1p1f1']\n",
      "bcc-csm2-mr ['r1i1p1f1']\n",
      "bcc-esm1 ['r1i1p1f1']\n",
      "cams-csm1-0 ['r1i1p1f1']\n",
      "canesm5 ['r1i1p1f1']\n",
      "cas-esm2-0 ['r1i1p1f1']\n",
      "cesm2 ['r1i1p1f1']\n",
      "cesm2-fv2 ['r1i1p1f1']\n",
      "cesm2-waccm ['r1i1p1f1']\n",
      "cesm2-waccm-fv2 ['r1i1p1f1']\n",
      "ciesm ['r1i1p1f1']\n",
      "cmcc-cm2-hr4 ['r1i1p1f1']\n",
      "cmcc-cm2-sr5 ['r1i1p1f1']\n",
      "cmcc-esm2 ['r1i1p1f1']\n",
      "e3sm-1-0 ['r1i1p1f1']\n",
      "e3sm-1-1 ['r1i1p1f1']\n",
      "e3sm-1-1-eca ['r1i1p1f1']\n",
      "ec-earth3 ['r1i1p1f1']\n",
      "ec-earth3-aerchem ['r1i1p1f1']\n",
      "ec-earth3-cc ['r1i1p1f1']\n",
      "ec-earth3-veg ['r1i1p1f1']\n",
      "ec-earth3-veg-lr ['r1i1p1f1']\n",
      "fgoals-f3-l ['r1i1p1f1']\n",
      "fgoals-g3 ['r1i1p1f1']\n",
      "fio-esm-2-0 ['r1i1p1f1']\n",
      "gfdl-cm4 ['r1i1p1f1']\n",
      "gfdl-esm4 ['r1i1p1f1']\n",
      "giss-e2-1-g ['r1i1p1f1']\n",
      "giss-e2-1-h ['r1i1p1f1']\n",
      "iitm-esm ['r1i1p1f1']\n",
      "inm-cm4-8 ['r1i1p1f1']\n",
      "inm-cm5-0 ['r1i1p1f1']\n",
      "input4mips ['concentrations']\n",
      "ipsl-cm5a2-inca ['r1i1p1f1']\n",
      "ipsl-cm6a-lr ['r1i1p1f1']\n",
      "ipsl-cm6a-lr-inca ['r1i1p1f1']\n",
      "kace-1-0-g ['r1i1p1f1']\n",
      "kiost-esm ['r1i1p1f1']\n",
      "mcm-ua-1-0 ['r1i1p1f1']\n",
      "miroc6 ['r1i1p1f1']\n",
      "mpi-esm1-2-ham ['r1i1p1f1']\n",
      "mpi-esm1-2-hr ['r1i1p1f1']\n",
      "mpi-esm1-2-lr ['r1i1p1f1']\n",
      "mri-esm2-0 ['r1i1p1f1']\n",
      "nesm3 ['r1i1p1f1']\n",
      "norcpm1 ['r1i1p1f1']\n",
      "noresm2-lm ['r1i1p1f1']\n",
      "noresm2-mm ['r1i1p1f1']\n",
      "sam0-unicon ['r1i1p1f1']\n",
      "taiesm1 ['r1i1p1f1']\n",
      "z_download []\n"
     ]
    }
   ],
   "source": [
    "# find varient for each model\n",
    "\n",
    "for model in models:\n",
    "    varients = [x.split('/')[-2] for x in glob.glob(\"%s/%s/*/\"%(cmip6Dir, model))]\n",
    "    print(model, varients)"
   ]
  },
  {
   "cell_type": "code",
   "execution_count": 21,
   "metadata": {},
   "outputs": [
    {
     "name": "stdout",
     "output_type": "stream",
     "text": [
      "access-cm2 ['historical', 'ssp126', 'ssp245', 'ssp370']\n",
      "access-esm1-5 ['esm-hist', 'historical', 'historical-nat', 'ssp126', 'ssp245', 'ssp370']\n",
      "awi-cm-1-1-mr ['historical', 'ssp126', 'ssp245', 'ssp370']\n",
      "awi-esm-1-1-lr ['historical']\n",
      "bcc-csm2-mr ['esm-hist', 'historical', 'historical-nat', 'ssp126', 'ssp245', 'ssp370']\n",
      "bcc-esm1 ['historical', 'ssp370']\n",
      "cams-csm1-0 ['historical', 'ssp370']\n",
      "canesm5 ['esm-hist', 'historical', 'historical-nat', 'ssp126', 'ssp245', 'ssp370', 'ssp460']\n",
      "cesm2 ['esm-hist', 'historical', 'historical-nat', 'ssp370']\n",
      "cesm2-fv2 ['historical']\n",
      "cesm2-waccm ['historical', 'ssp245']\n",
      "cesm2-waccm-fv2 ['historical']\n",
      "ciesm ['historical']\n",
      "cmcc-cm2-hr4 ['historical']\n",
      "cmcc-cm2-sr5 ['historical', 'ssp245', 'ssp370']\n",
      "cmcc-esm2 ['historical', 'ssp245']\n",
      "e3sm-1-0 ['historical']\n",
      "e3sm-1-1 ['historical']\n",
      "e3sm-1-1-eca ['historical']\n",
      "ec-earth3 ['historical', 'ssp245', 'ssp370']\n",
      "ec-earth3-aerchem ['historical']\n",
      "ec-earth3-cc ['historical', 'ssp245']\n",
      "ec-earth3-veg ['historical', 'ssp245']\n",
      "ec-earth3-veg-lr ['historical', 'ssp245']\n",
      "fgoals-f3-l ['historical']\n",
      "fgoals-g3 ['historical', 'historical-nat', 'ssp126', 'ssp245', 'ssp370', 'ssp460']\n",
      "fio-esm-2-0 ['historical']\n",
      "gfdl-cm4 ['historical', 'ssp245']\n",
      "gfdl-esm4 ['historical', 'ssp245', 'ssp370']\n",
      "giss-e2-1-g ['historical']\n",
      "giss-e2-1-h ['historical']\n",
      "iitm-esm ['historical', 'ssp245']\n",
      "inm-cm4-8 ['historical', 'ssp245']\n",
      "inm-cm5-0 ['historical', 'ssp245', 'ssp370']\n",
      "input4mips []\n",
      "ipsl-cm5a2-inca ['historical']\n",
      "ipsl-cm6a-lr ['historical', 'ssp245', 'ssp370']\n",
      "ipsl-cm6a-lr-inca ['historical']\n",
      "kace-1-0-g ['historical', 'ssp245', 'ssp370']\n",
      "kiost-esm ['historical', 'ssp245']\n",
      "mcm-ua-1-0 ['historical']\n",
      "miroc6 ['historical', 'historical-nat', 'ssp126', 'ssp245', 'ssp370', 'ssp460']\n",
      "mpi-esm1-2-ham ['historical', 'ssp370']\n",
      "mpi-esm1-2-hr ['historical', 'ssp126', 'ssp245', 'ssp370']\n",
      "mpi-esm1-2-lr ['esm-hist', 'historical', 'ssp126', 'ssp245', 'ssp370']\n",
      "mri-esm2-0 ['historical', 'historical-nat', 'ssp126', 'ssp245', 'ssp370', 'ssp460']\n",
      "nesm3 ['historical', 'ssp126', 'ssp245']\n",
      "norcpm1 ['historical']\n",
      "noresm2-lm ['historical', 'historical-nat', 'ssp126', 'ssp245', 'ssp370']\n",
      "noresm2-mm ['historical', 'ssp126', 'ssp245', 'ssp370']\n",
      "sam0-unicon ['historical']\n",
      "taiesm1 ['historical', 'ssp245']\n",
      "z_download []\n"
     ]
    }
   ],
   "source": [
    "# find experiments for each model/varient\n",
    "\n",
    "varient = 'r1i1p1f1'\n",
    "\n",
    "for model in models:\n",
    "    experiments = [x.split('/')[-2] for x in glob.glob(\"%s/%s/%s/*/\"%(cmip6Dir, model, varient))]\n",
    "    print(model, experiments)"
   ]
  },
  {
   "cell_type": "code",
   "execution_count": 25,
   "metadata": {},
   "outputs": [
    {
     "name": "stdout",
     "output_type": "stream",
     "text": [
      "access-cm2 ssp245 ['huss', 'pr', 'psl', 'tas', 'tasmax']\n",
      "access-esm1-5 ssp245 ['huss', 'pr', 'psl', 'tas', 'tasmax']\n",
      "awi-cm-1-1-mr ssp245 ['pr', 'tas']\n",
      "awi-esm-1-1-lr ssp245 []\n",
      "bcc-csm2-mr ssp245 ['huss', 'pr', 'psl', 'tas', 'tasmax']\n",
      "bcc-esm1 ssp245 []\n",
      "cams-csm1-0 ssp245 []\n",
      "canesm5 ssp245 ['huss', 'pr', 'psl', 'tas', 'tasmax']\n",
      "cesm2 ssp245 []\n",
      "cesm2-fv2 ssp245 []\n",
      "cesm2-waccm ssp245 ['huss', 'pr', 'psl']\n",
      "cesm2-waccm-fv2 ssp245 []\n",
      "ciesm ssp245 []\n",
      "cmcc-cm2-hr4 ssp245 []\n",
      "cmcc-cm2-sr5 ssp245 ['huss', 'pr', 'psl']\n",
      "cmcc-esm2 ssp245 ['huss', 'pr', 'psl']\n",
      "e3sm-1-0 ssp245 []\n",
      "e3sm-1-1 ssp245 []\n",
      "e3sm-1-1-eca ssp245 []\n",
      "ec-earth3 ssp245 ['huss', 'pr', 'psl', 'tasmax']\n",
      "ec-earth3-aerchem ssp245 []\n",
      "ec-earth3-cc ssp245 ['huss', 'pr', 'psl', 'tasmax']\n",
      "ec-earth3-veg ssp245 ['huss', 'pr', 'psl', 'tasmax']\n",
      "ec-earth3-veg-lr ssp245 ['huss', 'pr', 'psl', 'tasmax']\n",
      "fgoals-f3-l ssp245 []\n",
      "fgoals-g3 ssp245 ['huss', 'pr', 'psl', 'tas', 'tasmax']\n",
      "fio-esm-2-0 ssp245 []\n",
      "gfdl-cm4 ssp245 ['pr']\n",
      "gfdl-esm4 ssp245 ['pr']\n",
      "giss-e2-1-g ssp245 []\n",
      "giss-e2-1-h ssp245 []\n",
      "iitm-esm ssp245 ['huss', 'pr', 'psl']\n",
      "inm-cm4-8 ssp245 ['pr']\n",
      "inm-cm5-0 ssp245 ['pr']\n",
      "input4mips ssp245 []\n",
      "ipsl-cm5a2-inca ssp245 []\n",
      "ipsl-cm6a-lr ssp245 ['pr', 'psl', 'tasmax']\n",
      "ipsl-cm6a-lr-inca ssp245 []\n",
      "kace-1-0-g ssp245 ['huss', 'pr', 'psl', 'tasmax']\n",
      "kiost-esm ssp245 ['huss', 'pr', 'psl', 'tasmax']\n",
      "mcm-ua-1-0 ssp245 []\n",
      "miroc6 ssp245 ['pr', 'psl', 'tas', 'tasmax']\n",
      "mpi-esm1-2-ham ssp245 []\n",
      "mpi-esm1-2-hr ssp245 ['pr', 'tas']\n",
      "mpi-esm1-2-lr ssp245 ['pr', 'tas']\n",
      "mri-esm2-0 ssp245 ['huss', 'pr', 'psl', 'tas', 'tasmax']\n",
      "nesm3 ssp245 ['pr', 'psl', 'tas']\n",
      "norcpm1 ssp245 []\n",
      "noresm2-lm ssp245 ['huss', 'pr', 'psl', 'tas', 'tasmax']\n",
      "noresm2-mm ssp245 ['huss', 'pr', 'psl', 'tas', 'tasmax']\n",
      "sam0-unicon ssp245 []\n",
      "taiesm1 ssp245 ['huss', 'pr', 'psl', 'tasmax']\n",
      "z_download ssp245 []\n"
     ]
    }
   ],
   "source": [
    "# find variables for each model/varient/experiment\n",
    "\n",
    "varient = 'r1i1p1f1'\n",
    "experiment = 'ssp245'\n",
    "\n",
    "for model in models:\n",
    "    variables = [x.split('/')[-2] for x in glob.glob(\"%s/%s/%s/%s/*/\"%(cmip6Dir, model, varient, experiment))]\n",
    "    print(model, experiment, variables)"
   ]
  },
  {
   "cell_type": "code",
   "execution_count": 6,
   "metadata": {},
   "outputs": [
    {
     "name": "stdout",
     "output_type": "stream",
     "text": [
      "access-cm2\n",
      "access-esm1-5\n",
      "awi-esm-1-1-lr\n",
      "bcc-csm2-mr\n",
      "canesm5\n",
      "cesm2\n",
      "cesm2-fv2\n",
      "cesm2-waccm\n",
      "cesm2-waccm-fv2\n",
      "cmcc-cm2-hr4\n",
      "cmcc-cm2-sr5\n",
      "cmcc-esm2\n",
      "ec-earth3\n",
      "ec-earth3-aerchem\n",
      "ec-earth3-cc\n",
      "ec-earth3-veg\n",
      "ec-earth3-veg-lr\n",
      "fgoals-f3-l\n",
      "fgoals-g3\n",
      "iitm-esm\n",
      "inm-cm4-8\n",
      "inm-cm5-0\n",
      "kace-1-0-g\n",
      "kiost-esm\n",
      "miroc6\n",
      "mpi-esm1-2-ham\n",
      "mpi-esm1-2-hr\n",
      "mpi-esm1-2-lr\n",
      "mri-esm2-0\n",
      "noresm2-lm\n",
      "noresm2-mm\n",
      "sam0-unicon\n",
      "taiesm1\n",
      "33\n"
     ]
    }
   ],
   "source": [
    "# find models with specific varient/experiment/variable\n",
    "\n",
    "varient = 'r1i1p1f1'\n",
    "experiment = 'historical'\n",
    "freq = 'day'\n",
    "variable = 'huss'\n",
    "\n",
    "n = 0\n",
    "for model in models:\n",
    "    variables = [x.split('/')[-2] for x in glob.glob(\"%s/%s/%s/%s/*/\"%(cmip6Dir, model, varient, experiment))]\n",
    "    if variable in variables:\n",
    "        print(model)\n",
    "        n += 1\n",
    "print(n)"
   ]
  },
  {
   "cell_type": "code",
   "execution_count": 6,
   "metadata": {},
   "outputs": [
    {
     "name": "stdout",
     "output_type": "stream",
     "text": [
      "0\n"
     ]
    }
   ],
   "source": [
    "# find models with specific varient/experiment/variable\n",
    "\n",
    "varient = 'r1i1p1f1'\n",
    "experiment = 'ssp585'\n",
    "freq = 'day'\n",
    "variable_list = ['huss', 'psl', 'tasmax']\n",
    "\n",
    "n = 0\n",
    "for model in models:\n",
    "    variables = [x.split('/')[-2] for x in glob.glob(\"%s/%s/%s/%s/*/\"%(cmip6Dir, model, varient, experiment))]\n",
    "    \n",
    "    all_vars = True\n",
    "    for v in variable_list:\n",
    "        if v not in variables:\n",
    "            all_vars = False\n",
    "    if all_vars:\n",
    "        print(model)\n",
    "        n += 1\n",
    "print(n)"
   ]
  },
  {
   "cell_type": "code",
   "execution_count": null,
   "metadata": {},
   "outputs": [],
   "source": []
  }
 ],
 "metadata": {
  "kernelspec": {
   "display_name": "Python 3",
   "language": "python",
   "name": "python3"
  },
  "language_info": {
   "codemirror_mode": {
    "name": "ipython",
    "version": 3
   },
   "file_extension": ".py",
   "mimetype": "text/x-python",
   "name": "python",
   "nbconvert_exporter": "python",
   "pygments_lexer": "ipython3",
   "version": "3.6.9"
  }
 },
 "nbformat": 4,
 "nbformat_minor": 4
}
