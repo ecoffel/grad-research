{
 "cells": [
  {
   "cell_type": "code",
   "execution_count": 96,
   "metadata": {},
   "outputs": [],
   "source": [
    "from sklearn.preprocessing import normalize\n",
    "from mvpa2.suite import *\n",
    "import ni_nileUtils\n",
    "\n",
    "[tempHistorical, models] = ni_nileUtils.readModelData('data/r1-temp-historical.csv')\n",
    "[prHistorical, models] = ni_nileUtils.readModelData('data/r1-pr-historical.csv')\n",
    "\n",
    "som = SimpleSOMMapper((2,3), 3000, learning_rate=0.01)\n",
    "\n",
    "inds = range(12,np.size(tempHistorical['gfdl-cm3']))\n",
    "\n",
    "data = []\n",
    "\n",
    "for i in inds:\n",
    "    data.append([tempHistorical['gfdl-cm3'][i], prHistorical['gfdl-cm3'][i]])\n",
    "\n",
    "data = np.array(data)\n",
    "data = normalize(data,axis=0)\n",
    "\n",
    "som.train(data)\n",
    "\n",
    "#pl.imshow(som.K, origin='lower')\n",
    "\n",
    "\n",
    "#mapped = som(colors)\n",
    "\n",
    "#pl.title('Color SOM')\n",
    "# SOM's kshape is (rows x columns), while matplotlib wants (X x Y)\n",
    "#for i, m in enumerate(mapped):\n",
    "#    pl.text(m[1], m[0], color_names[i], ha='center', va='center',\n",
    "#           bbox=dict(facecolor='white', alpha=0.5, lw=0))\n",
    "\n",
    "\n",
    "# show the figure\n",
    "#pl.show()\n"
   ]
  },
  {
   "cell_type": "code",
   "execution_count": 95,
   "metadata": {},
   "outputs": [
    {
     "name": "stdout",
     "output_type": "stream",
     "text": [
      "0.072854177048\n",
      "0.310026455705\n",
      "[[[ 0.04088621  0.06591994]\n",
      "  [ 0.05308332  0.0268773 ]]\n",
      "\n",
      " [[ 0.05467756  0.0270964 ]\n",
      "  [ 0.05778967  0.0124146 ]]]\n",
      "Counter({(1, 1): 187, (0, 0): 102, (0, 1): 43, (1, 0): 16})\n"
     ]
    }
   ],
   "source": [
    "import collections\n",
    "\n",
    "print(data[:,0].max())\n",
    "print(data[:,1].max())\n",
    "\n",
    "mapped=[(x[0],x[1]) for x in som(data)]\n",
    "print(som.K)\n",
    "c = collections.Counter(mapped)\n",
    "print(c)\n"
   ]
  },
  {
   "cell_type": "code",
   "execution_count": null,
   "metadata": {
    "collapsed": true
   },
   "outputs": [],
   "source": [
    "from sklearn.preprocessing import normalize\n",
    "from mvpa2.suite import *\n",
    "import ni_nileUtils\n",
    "\n",
    "[tempHistorical, models] = ni_nileUtils.readModelData('data/r1-temp-rcp85.csv')\n",
    "[prHistorical, models] = ni_nileUtils.readModelData('data/r1-pr-rcp85.csv')\n",
    "\n",
    "som = SimpleSOMMapper((2,3), 3000, learning_rate=0.01)\n",
    "\n",
    "inds = range(12,np.size(tempHistorical['gfdl-cm3']))\n",
    "\n",
    "data = []\n",
    "\n",
    "for i in inds:\n",
    "    data.append([tempHistorical['gfdl-cm3'][i], prHistorical['gfdl-cm3'][i]])\n",
    "\n",
    "data = np.array(data)\n",
    "data = normalize(data,axis=0)\n",
    "\n",
    "som.train(data)\n",
    "\n",
    "#pl.imshow(som.K, origin='lower')\n",
    "\n",
    "\n",
    "#mapped = som(colors)\n",
    "\n",
    "#pl.title('Color SOM')\n",
    "# SOM's kshape is (rows x columns), while matplotlib wants (X x Y)\n",
    "#for i, m in enumerate(mapped):\n",
    "#    pl.text(m[1], m[0], color_names[i], ha='center', va='center',\n",
    "#           bbox=dict(facecolor='white', alpha=0.5, lw=0))\n",
    "\n",
    "\n",
    "# show the figure\n",
    "#pl.show()\n"
   ]
  },
  {
   "cell_type": "code",
   "execution_count": null,
   "metadata": {
    "collapsed": true
   },
   "outputs": [],
   "source": [
    "\n",
    "print(data[:,0].max())\n",
    "print(data[:,1].max())\n",
    "\n",
    "mapped=[(x[0],x[1]) for x in som(data)]\n",
    "print(som.K)\n",
    "c = collections.Counter(mapped)\n",
    "print(c)\n"
   ]
  }
 ],
 "metadata": {
  "kernelspec": {
   "display_name": "Python 3",
   "language": "python",
   "name": "python3"
  },
  "language_info": {
   "codemirror_mode": {
    "name": "ipython",
    "version": 3
   },
   "file_extension": ".py",
   "mimetype": "text/x-python",
   "name": "python",
   "nbconvert_exporter": "python",
   "pygments_lexer": "ipython3",
   "version": "3.6.2"
  }
 },
 "nbformat": 4,
 "nbformat_minor": 2
}
