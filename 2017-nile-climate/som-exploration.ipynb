{
 "cells": [
  {
   "cell_type": "code",
   "execution_count": 98,
   "metadata": {},
   "outputs": [],
   "source": [
    "from sklearn.preprocessing import normalize\n",
    "from mvpa2.suite import *\n",
    "import ni_nileUtils\n",
    "\n",
    "[tempHistorical, models] = ni_nileUtils.readModelData('data/r1-temp-historical.csv')\n",
    "[prHistorical, models] = ni_nileUtils.readModelData('data/r1-pr-historical.csv')\n",
    "\n",
    "som = SimpleSOMMapper((2,2), 3000, learning_rate=0.01)\n",
    "\n",
    "inds = range(12,np.size(tempHistorical['gfdl-cm3']))\n",
    "\n",
    "data = []\n",
    "\n",
    "for i in inds:\n",
    "    data.append([tempHistorical['gfdl-cm3'][i], prHistorical['gfdl-cm3'][i]])\n",
    "\n",
    "data = np.array(data)\n",
    "data = normalize(data,axis=0)\n",
    "\n",
    "som.train(data)\n",
    "\n",
    "#pl.imshow(som.K, origin='lower')\n",
    "\n",
    "\n",
    "#mapped = som(colors)\n",
    "\n",
    "#pl.title('Color SOM')\n",
    "# SOM's kshape is (rows x columns), while matplotlib wants (X x Y)\n",
    "#for i, m in enumerate(mapped):\n",
    "#    pl.text(m[1], m[0], color_names[i], ha='center', va='center',\n",
    "#           bbox=dict(facecolor='white', alpha=0.5, lw=0))\n",
    "\n",
    "\n",
    "# show the figure\n",
    "#pl.show()\n"
   ]
  },
  {
   "cell_type": "code",
   "execution_count": 99,
   "metadata": {},
   "outputs": [
    {
     "name": "stdout",
     "output_type": "stream",
     "text": [
      "0.0709769416225\n",
      "0.243900716149\n",
      "[[[ 0.05604282  0.01648312]\n",
      "  [ 0.0517898   0.03581307]]\n",
      "\n",
      " [[ 0.0541877   0.03590967]\n",
      "  [ 0.04236407  0.06990439]]]\n",
      "Counter({(0, 0): 202, (1, 1): 81, (0, 1): 47, (1, 0): 18})\n"
     ]
    }
   ],
   "source": [
    "import collections\n",
    "\n",
    "print(data[:,0].max())\n",
    "print(data[:,1].max())\n",
    "\n",
    "mapped=[(x[0],x[1]) for x in som(data)]\n",
    "print(som.K)\n",
    "c = collections.Counter(mapped)\n",
    "print(c)\n"
   ]
  },
  {
   "cell_type": "code",
   "execution_count": 102,
   "metadata": {
    "collapsed": true
   },
   "outputs": [],
   "source": [
    "from sklearn.preprocessing import normalize\n",
    "from mvpa2.suite import *\n",
    "import ni_nileUtils\n",
    "\n",
    "[tempHistorical, models] = ni_nileUtils.readModelData('data/r1-temp-rcp45.csv')\n",
    "[prHistorical, models] = ni_nileUtils.readModelData('data/r1-pr-rcp45.csv')\n",
    "\n",
    "som = SimpleSOMMapper((2,2), 3000, learning_rate=0.01)\n",
    "\n",
    "inds = range(12,np.size(tempHistorical['gfdl-cm3']))\n",
    "\n",
    "data = []\n",
    "\n",
    "for i in inds:\n",
    "    data.append([tempHistorical['gfdl-cm3'][i], prHistorical['gfdl-cm3'][i]])\n",
    "\n",
    "data = np.array(data)\n",
    "data = normalize(data,axis=0)\n",
    "\n",
    "som.train(data)\n",
    "\n",
    "#pl.imshow(som.K, origin='lower')\n",
    "\n",
    "\n",
    "#mapped = som(colors)\n",
    "\n",
    "#pl.title('Color SOM')\n",
    "# SOM's kshape is (rows x columns), while matplotlib wants (X x Y)\n",
    "#for i, m in enumerate(mapped):\n",
    "#    pl.text(m[1], m[0], color_names[i], ha='center', va='center',\n",
    "#           bbox=dict(facecolor='white', alpha=0.5, lw=0))\n",
    "\n",
    "\n",
    "# show the figure\n",
    "#pl.show()\n"
   ]
  },
  {
   "cell_type": "code",
   "execution_count": 103,
   "metadata": {},
   "outputs": [
    {
     "name": "stdout",
     "output_type": "stream",
     "text": [
      "0.0410464467959\n",
      "0.218488311476\n",
      "[[[ 0.03185142  0.00756808]\n",
      "  [ 0.03056055  0.01663213]]\n",
      "\n",
      " [[ 0.03180824  0.0167085 ]\n",
      "  [ 0.02554913  0.03792811]]]\n",
      "Counter({(0, 0): 626, (1, 1): 237, (0, 1): 159, (1, 0): 46})\n"
     ]
    }
   ],
   "source": [
    "\n",
    "print(data[:,0].max())\n",
    "print(data[:,1].max())\n",
    "\n",
    "mapped=[(x[0],x[1]) for x in som(data)]\n",
    "print(som.K)\n",
    "c = collections.Counter(mapped)\n",
    "print(c)\n"
   ]
  },
  {
   "cell_type": "code",
   "execution_count": 100,
   "metadata": {
    "collapsed": true
   },
   "outputs": [],
   "source": [
    "from sklearn.preprocessing import normalize\n",
    "from mvpa2.suite import *\n",
    "import ni_nileUtils\n",
    "\n",
    "[tempHistorical, models] = ni_nileUtils.readModelData('data/r1-temp-rcp85.csv')\n",
    "[prHistorical, models] = ni_nileUtils.readModelData('data/r1-pr-rcp85.csv')\n",
    "\n",
    "som = SimpleSOMMapper((2,2), 3000, learning_rate=0.01)\n",
    "\n",
    "inds = range(12,np.size(tempHistorical['gfdl-cm3']))\n",
    "\n",
    "data = []\n",
    "\n",
    "for i in inds:\n",
    "    data.append([tempHistorical['gfdl-cm3'][i], prHistorical['gfdl-cm3'][i]])\n",
    "\n",
    "data = np.array(data)\n",
    "data = normalize(data,axis=0)\n",
    "\n",
    "som.train(data)\n",
    "\n",
    "#pl.imshow(som.K, origin='lower')\n",
    "\n",
    "\n",
    "#mapped = som(colors)\n",
    "\n",
    "#pl.title('Color SOM')\n",
    "# SOM's kshape is (rows x columns), while matplotlib wants (X x Y)\n",
    "#for i, m in enumerate(mapped):\n",
    "#    pl.text(m[1], m[0], color_names[i], ha='center', va='center',\n",
    "#           bbox=dict(facecolor='white', alpha=0.5, lw=0))\n",
    "\n",
    "\n",
    "# show the figure\n",
    "#pl.show()\n"
   ]
  },
  {
   "cell_type": "code",
   "execution_count": 101,
   "metadata": {},
   "outputs": [
    {
     "name": "stdout",
     "output_type": "stream",
     "text": [
      "0.0436039149096\n",
      "0.218488311476\n",
      "[[[ 0.02600844  0.03800006]\n",
      "  [ 0.03169792  0.01664206]]\n",
      "\n",
      " [[ 0.03288395  0.01668168]\n",
      "  [ 0.03298357  0.00759128]]]\n",
      "Counter({(1, 1): 624, (0, 0): 240, (0, 1): 165, (1, 0): 39})\n"
     ]
    }
   ],
   "source": [
    "\n",
    "print(data[:,0].max())\n",
    "print(data[:,1].max())\n",
    "\n",
    "mapped=[(x[0],x[1]) for x in som(data)]\n",
    "print(som.K)\n",
    "c = collections.Counter(mapped)\n",
    "print(c)\n"
   ]
  }
 ],
 "metadata": {
  "kernelspec": {
   "display_name": "Python 3",
   "language": "python",
   "name": "python3"
  },
  "language_info": {
   "codemirror_mode": {
    "name": "ipython",
    "version": 3
   },
   "file_extension": ".py",
   "mimetype": "text/x-python",
   "name": "python",
   "nbconvert_exporter": "python",
   "pygments_lexer": "ipython3",
   "version": "3.6.2"
  }
 },
 "nbformat": 4,
 "nbformat_minor": 2
}
